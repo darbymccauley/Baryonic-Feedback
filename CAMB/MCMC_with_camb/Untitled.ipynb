{
 "cells": [
  {
   "cell_type": "code",
   "execution_count": 1,
   "id": "a00117e5",
   "metadata": {},
   "outputs": [],
   "source": [
    "import camb\n"
   ]
  },
  {
   "cell_type": "code",
   "execution_count": 2,
   "id": "e0ee5db9",
   "metadata": {},
   "outputs": [],
   "source": [
    "pars_test = camb.set_params??\n",
    "\n",
    "# (H0=67.5, \n",
    "#                             ombh2=0.022, \n",
    "#                             omch2=0.120*1.2, \n",
    "#                             redshifts=[0], \n",
    "#                             kmax=10, \n",
    "#                             As=2e-9, \n",
    "#                             ns=0.96, \n",
    "#                             halofit_version='mead2020_feedback', \n",
    "#                             HMCode_A_baryon = 0, \n",
    "#                             HMCode_eta_baryon = 0, \n",
    "#                             HMCode_logT_AGN = -10)\n",
    "#                             # zero the HMCode to get a universe without baryonic feedback\n",
    "# results_test = camb.get_transfer_functions(pars_test)\n",
    "# kh_test, _, pk_test = results_test.get_nonlinear_matter_power_spectrum(hubble_units=True, k_hunit=True)\n"
   ]
  },
  {
   "cell_type": "code",
   "execution_count": null,
   "id": "51bdef88",
   "metadata": {},
   "outputs": [],
   "source": []
  }
 ],
 "metadata": {
  "kernelspec": {
   "display_name": "Python 3 (ipykernel)",
   "language": "python",
   "name": "python3"
  },
  "language_info": {
   "codemirror_mode": {
    "name": "ipython",
    "version": 3
   },
   "file_extension": ".py",
   "mimetype": "text/x-python",
   "name": "python",
   "nbconvert_exporter": "python",
   "pygments_lexer": "ipython3",
   "version": "3.9.7"
  }
 },
 "nbformat": 4,
 "nbformat_minor": 5
}
