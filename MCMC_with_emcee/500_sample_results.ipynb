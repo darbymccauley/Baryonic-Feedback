{
 "cells": [
  {
   "cell_type": "markdown",
   "id": "cfe79b5d",
   "metadata": {},
   "source": [
    "# 500 sample run results"
   ]
  },
  {
   "cell_type": "code",
   "execution_count": 1,
   "id": "b2e5d91d",
   "metadata": {},
   "outputs": [],
   "source": [
    "%matplotlib inline\n",
    "%config InlineBackend.figure_format = 'retina'\n",
    "\n",
    "import camb\n",
    "import emcee\n",
    "import matplotlib as mpl\n",
    "from matplotlib import pyplot as plt\n",
    "import corner\n",
    "import numpy as np\n",
    "import mpl_toolkits.axes_grid1 as axgrid\n",
    "from mpl_toolkits.axes_grid1 import make_axes_locatable\n",
    "from scipy.optimize import minimize\n",
    "from IPython.display import display, Math\n",
    "\n",
    "plt.rcParams['mathtext.fontset'], plt.rcParams['font.family'] = 'stix', 'STIXGeneral'\n",
    "plt.rcParams.update({'font.size': 17})"
   ]
  },
  {
   "cell_type": "markdown",
   "id": "3f2e7cce",
   "metadata": {},
   "source": [
    "### Creating \"fake\" oberservational data"
   ]
  },
  {
   "cell_type": "code",
   "execution_count": 2,
   "id": "9e5e450a",
   "metadata": {},
   "outputs": [],
   "source": [
    "pars_test = camb.set_params(H0=67.5, \n",
    "                            ombh2=0.022, \n",
    "                            omch2=0.120*1.2, \n",
    "                            redshifts=[0], \n",
    "                            kmax=10, \n",
    "                            As=2e-9, \n",
    "                            ns=0.96, \n",
    "                            halofit_version='mead2020_feedback', \n",
    "                            HMCode_A_baryon = 0, \n",
    "                            HMCode_eta_baryon = 0, \n",
    "                            HMCode_logT_AGN = -10)\n",
    "                            # zero the HMCode to get a universe without baryonic feedback\n",
    "results_test = camb.get_transfer_functions(pars_test)\n",
    "kh_test, _, pk_test = results_test.get_nonlinear_matter_power_spectrum(hubble_units=True, k_hunit=True)\n",
    "\n",
    "kh_data = kh_test\n",
    "pk_data = pk_test[0]\n",
    "\n",
    "pk_err = 0.10*pk_data # creating error"
   ]
  },
  {
   "cell_type": "markdown",
   "id": "b94fad00",
   "metadata": {},
   "source": [
    "## Using piecing method:"
   ]
  },
  {
   "cell_type": "markdown",
   "id": "8c5eb420",
   "metadata": {},
   "source": [
    "### Creating likelihood function using 'mead2020'"
   ]
  },
  {
   "cell_type": "code",
   "execution_count": 3,
   "id": "5ce9b955",
   "metadata": {},
   "outputs": [],
   "source": [
    "def log_likelihood_mead(theta, x, y, yerr): \n",
    "    # theta = [A, eta, logT_AGN] params, x --> kh_data, y --> pk_data, yerr --> pk_err\n",
    "    A, eta, logT_AGN = theta\n",
    "    model = camb.set_params(H0=67.5, ombh2=0.022, omch2=0.122, redshifts=[0], kmax=10, As=2e-9, ns=0.96, \n",
    "                           halofit_version='mead', \n",
    "                           HMCode_A_baryon = A, \n",
    "                           HMCode_eta_baryon = eta, \n",
    "                           HMCode_logT_AGN = logT_AGN)\n",
    "    results = camb.get_transfer_functions(model)\n",
    "    kh, _, pk = results.get_nonlinear_matter_power_spectrum(hubble_units=True, k_hunit=True)\n",
    "    pk = pk[0]\n",
    "    sigma2 = yerr**2\n",
    "    return -0.5 * np.sum((y - pk)**2 / sigma2 + np.log(sigma2))"
   ]
  },
  {
   "cell_type": "code",
   "execution_count": 4,
   "id": "64dd0fc1",
   "metadata": {},
   "outputs": [
    {
     "name": "stdout",
     "output_type": "stream",
     "text": [
      "\"mead\" maximum likelihood values: [ 3.14322588 -0.38471244  7.8       ]\n"
     ]
    }
   ],
   "source": [
    "nll_mead = lambda *args: -log_likelihood_mead(*args) \n",
    "# maximizing the likelihood is the same as minimizing the negative of the liklihood\n",
    "initial = np.array([3.13, 0.603, 7.8]) # using default HMCode values\n",
    "soln_mead = minimize(nll_mead, initial, args=(kh_data, pk_data, pk_err))\n",
    "A_ml_mead, eta_ml_mead, logT_AGN_ml_mead = soln_mead.x # maximum likelihood values\n",
    "print('\"mead\" maximum likelihood values:', soln_mead.x)"
   ]
  },
  {
   "cell_type": "markdown",
   "id": "58427f88",
   "metadata": {},
   "source": [
    "### Creating likelihood function using 'mead2020_feedback'"
   ]
  },
  {
   "cell_type": "code",
   "execution_count": null,
   "id": "ca9dfde8",
   "metadata": {},
   "outputs": [],
   "source": [
    "def log_likelihood_feedback(theta, x, y, yerr): \n",
    "    # theta = [A, eta, logT_AGN] params, x --> kh_data, y --> pk_data, yerr --> pk_err\n",
    "    A, eta, logT_AGN = theta\n",
    "    model = camb.set_params(H0=67.5, ombh2=0.022, omch2=0.122, redshifts=[0], kmax=10, As=2e-9, ns=0.96, \n",
    "                           halofit_version='mead2020_feedback', \n",
    "                           HMCode_A_baryon = A, \n",
    "                           HMCode_eta_baryon = eta, \n",
    "                           HMCode_logT_AGN = logT_AGN)\n",
    "    results = camb.get_transfer_functions(model)\n",
    "    kh, _, pk = results.get_nonlinear_matter_power_spectrum(hubble_units=True, k_hunit=True)\n",
    "    pk = pk[0]\n",
    "    sigma2 = yerr**2\n",
    "    return -0.5 * np.sum((y - pk)**2 / sigma2 + np.log(sigma2))"
   ]
  },
  {
   "cell_type": "code",
   "execution_count": null,
   "id": "85d3a588",
   "metadata": {},
   "outputs": [],
   "source": [
    "nll_feedback = lambda *args: -log_likelihood_feedback(*args) \n",
    "# maximizing the likelihood is the same as minimizing the negative of the liklihood\n",
    "initial = np.array([3.13, 0.603, 7.8]) # using default HMCode values\n",
    "soln_feedback = minimize(nll_feedback, initial, args=(kh_data, pk_data, pk_err))\n",
    "A_ml_feedback, eta_ml_feedback, logT_AGN_ml_feedback = soln_feedback.x # maximum likelihood values\n",
    "print('\"mead2020_feedback\" maximum likelihood values:', soln_feedback.x)"
   ]
  },
  {
   "cell_type": "markdown",
   "id": "3c185fcf",
   "metadata": {},
   "source": [
    "### Piecing maximum likelihood values together..."
   ]
  },
  {
   "cell_type": "code",
   "execution_count": null,
   "id": "364d8edf",
   "metadata": {},
   "outputs": [],
   "source": [
    "pieced_ml = np.array([A_ml_mead, eta_ml_mead, logT_AGN_ml_feedback])\n",
    "print('Pieced maximumum likelihood estimates:', pieced_ml)"
   ]
  },
  {
   "cell_type": "markdown",
   "id": "a463f538",
   "metadata": {},
   "source": [
    "### MCMC"
   ]
  },
  {
   "cell_type": "code",
   "execution_count": null,
   "id": "a66434b7",
   "metadata": {},
   "outputs": [],
   "source": [
    "def log_prior(theta): # sets up priors on theta\n",
    "    A, eta, logT_AGN = theta\n",
    "    if -5.0 < A < 10.0 and -5.0 < eta < 5.0 and -20.0 < logT_AGN < 8:\n",
    "        return 0.0\n",
    "    return -np.inf"
   ]
  },
  {
   "cell_type": "code",
   "execution_count": null,
   "id": "36673467",
   "metadata": {},
   "outputs": [],
   "source": [
    "def log_probability(theta, x, y, yerr):\n",
    "    # theta = [A, eta, logT_AGN] params, x --> kh_data, y --> pk_data, yerr --> pk_err\n",
    "    lp = log_prior(theta) \n",
    "    if not np.isfinite(lp): \n",
    "        return -np.inf\n",
    "    return lp + log_likelihood_feedback(theta, x, y, yerr)"
   ]
  },
  {
   "cell_type": "code",
   "execution_count": null,
   "id": "1c01d835",
   "metadata": {},
   "outputs": [],
   "source": [
    "pos = pieced_ml + 1e-4 * np.random.randn(32, 3) ## not sure what nwalkers value would be best\n",
    "## would increading the number of walkers make it run faster?\n",
    "nwalkers, ndim = pos.shape\n",
    "\n",
    "sampler = emcee.EnsembleSampler(nwalkers,\n",
    "                                ndim, \n",
    "                                log_probability, \n",
    "                                args=(kh_data, pk_data, pk_err))\n",
    "\n",
    "\n",
    "sampler.run_mcmc(pos, 500, progress=True);"
   ]
  },
  {
   "cell_type": "code",
   "execution_count": null,
   "id": "bfa0c263",
   "metadata": {},
   "outputs": [],
   "source": [
    "samples = sampler.get_chain()\n",
    "np.save('500_sample_test.npy', samples)\n",
    "\n",
    "tau = sampler.get_autocorr_time()\n",
    "print('Integrated autocorrelation time:', tau)"
   ]
  },
  {
   "cell_type": "markdown",
   "id": "c6de5362",
   "metadata": {},
   "source": [
    "### Plotting and analyzing"
   ]
  },
  {
   "cell_type": "code",
   "execution_count": null,
   "id": "6ef943e4",
   "metadata": {},
   "outputs": [],
   "source": [
    "fig, axes = plt.subplots(3, figsize=(10, 7), sharex=True)\n",
    "labels = ['A_baryon', 'eta_baryon', 'logT_AGN']\n",
    "for i in range(ndim):\n",
    "    ax = axes[i]\n",
    "    ax.plot(samples[:, :, i], \"k\", alpha=0.3)\n",
    "    ax.set_xlim(0, len(samples)-1)\n",
    "    ax.set_ylabel(labels[i])\n",
    "    ax.yaxis.set_label_coords(-0.1, 0.5)\n",
    "\n",
    "axes[-1].set_xlabel('step number');"
   ]
  },
  {
   "cell_type": "code",
   "execution_count": null,
   "id": "f420a8f4",
   "metadata": {},
   "outputs": [],
   "source": [
    "flat_samples = sampler.get_chain(discard=25, thin=12, flat=True) ## not sure about discard and thin values\n",
    "print(flat_samples.shape)\n",
    "\n",
    "fig = corner.corner(flat_samples, labels=labels, truths=initial);\n",
    "\n",
    "# Not sure what to put into the 'truths' arg because I don't actually know what values of A, eta, and logT_AGN will\n",
    "# reproduce the test observational data, so I made equal to HMCode defaults -- might be misunderstanding argument?"
   ]
  },
  {
   "cell_type": "code",
   "execution_count": null,
   "id": "789a57a1",
   "metadata": {},
   "outputs": [],
   "source": [
    "labels = ['A-baryon', 'eta-baryon', 'logT_{AGN}']\n",
    "\n",
    "for i in range(ndim):\n",
    "    mcmc = np.percentile(flat_samples[:, i], [16, 50, 84])\n",
    "    q = np.diff(mcmc)\n",
    "    txt = \"\\mathrm{{{3}}} = {0:.3f}_{{-{1:.3f}}}^{{{2:.3f}}}\"\n",
    "    txt = txt.format(mcmc[1], q[0], q[1], labels[i])\n",
    "    display(Math(txt))"
   ]
  },
  {
   "cell_type": "markdown",
   "id": "4c1822ef",
   "metadata": {},
   "source": [
    "### Quick plot for sanity check"
   ]
  },
  {
   "cell_type": "code",
   "execution_count": null,
   "id": "5e081753",
   "metadata": {},
   "outputs": [],
   "source": [
    "def baryon_feedback(A, eta, logT_AGN):\n",
    "    pars = camb.set_params(H0=67.5, ombh2=0.022, omch2=0.122, redshifts=[0], kmax=10, As=2e-9, ns=0.96, \n",
    "                           halofit_version='mead2020_feedback', \n",
    "                           HMCode_A_baryon = A, \n",
    "                           HMCode_eta_baryon = eta, \n",
    "                           HMCode_logT_AGN = logT_AGN)\n",
    "    results = camb.get_transfer_functions(pars)\n",
    "    kh, _ , pk = results.get_nonlinear_matter_power_spectrum(hubble_units=True, k_hunit=True)\n",
    "    return kh, pk[0]"
   ]
  },
  {
   "cell_type": "code",
   "execution_count": null,
   "id": "90abe0dc",
   "metadata": {},
   "outputs": [],
   "source": [
    "kh_model, pk_model = baryon_feedback(3.943, 0.330, -5.805)\n",
    "\n",
    "plt.figure(figsize=(8,6))\n",
    "plt.errorbar(kh_data, pk_data, yerr=pk_err, color='k', label='Observational data\\n[omch2*1.2]')\n",
    "plt.plot(kh_model, pk_model, \"--g\", label=\"Maximum likelihood\")\n",
    "plt.xscale('log')\n",
    "plt.yscale('log')\n",
    "plt.legend(bbox_to_anchor=(1,1), loc='upper left')\n",
    "plt.ylabel('$P_m(k)$ [($h^{-1}Mpc)^3$]')\n",
    "plt.xlabel('Wavenumber, k [h/Mpc]');"
   ]
  },
  {
   "cell_type": "code",
   "execution_count": null,
   "id": "7f98abdd",
   "metadata": {},
   "outputs": [],
   "source": []
  }
 ],
 "metadata": {
  "kernelspec": {
   "display_name": "Python 3 (ipykernel)",
   "language": "python",
   "name": "python3"
  },
  "language_info": {
   "codemirror_mode": {
    "name": "ipython",
    "version": 3
   },
   "file_extension": ".py",
   "mimetype": "text/x-python",
   "name": "python",
   "nbconvert_exporter": "python",
   "pygments_lexer": "ipython3",
   "version": "3.9.7"
  }
 },
 "nbformat": 4,
 "nbformat_minor": 5
}
